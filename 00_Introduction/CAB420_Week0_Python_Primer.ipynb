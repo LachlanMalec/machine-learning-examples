{
 "cells": [
  {
   "cell_type": "markdown",
   "id": "ca4f37e7",
   "metadata": {},
   "source": [
    "# CAB420 - Introduction to Python\n",
    "\n",
    "Author: Ethan Goan\n",
    "\n",
    "Welcome to CAB420 - Machine Learning, and to the week 0 python primer.\n",
    "\n",
    "This notebook contains some basic info about some of the python packages we will be using throughout the semester, as well as some hot tips for how to progress through the semester and how to best get help from the teaching team. This will be moderately lengthy, but please don't think this is all things we want you to memorise right of the bat (we're always looking up function names, APIs, etc). This is here as an intro so you can read through in your own time, run the code snippets and come back to this for reference to so you can hit the ground running for week one. We have also included some exercises here for you to play around with to try and encourage you to familiarise yourself with the different packages we will be making most use of throughout the course.\n",
    "\n",
    "## Week Zero Requirements\n",
    "\n",
    "- Python environment set up, follow the instructions on the CAB420 canvas site, and if you get stuck, reach out to the teaching team.\n",
    "- Follow this notebook and attempt some of the exercises (they are all pretty straight forward), and confirm that the code in this notebook works in the python environment you have setup.\n",
    "\n",
    "For week one of this unit, we are expecting everyone to have a working Python environment so they can follow\n",
    "along with everything. The canvas site week 0 content covers a few options for setting up your python toolchain. If you've reached this before doing that, please go back and get your python environment setup (if you have any dramas with your setup though, don't stress - we will have time in week one to help you get it sorted, but please make sure you have made a solid attempt at setting things up).\n",
    "\n",
    "It is hoped that many of you are already a bit familiar with Python programming  and the Python ecosystem as a whole. If not, CAB420 is the perfect place to get acquainted, and acquainted you will become :). If you look at any survey looking at the most used programming languages out in the wild, you will see Python way up there [1] and  if you look at job postings there will almost definitely be a requirement for proficiency with python, and there is a good reason for this. Python is quite ubiquitous and diverse in what it is capable of. It can be used for web technologies, task automation, general purpose programming, and of course the purposes we will be using it for here, machine learning, statistics, and data science.\n",
    "\n",
    "If you are familiar with Python, it is still recommended to spend a bit of time to quickly skim through here, as we will be going through some of the main packages that will pop up again and  again throughout this class (and would pop up in any data science work).\n",
    "\n",
    "If you have never played with Python before, this will give you a bit of an intro to some of the basic data types and packages, as well as giving you a bit of insight into the main packages. If you have programmed with things like Matlab before, then you will have no trouble with Python. If you have used languages such as Julia or R before, you will similarly feel pretty at home here. If you have never programmed before, now is the perfect time to learn, and python is the perfect language to get started with. \n",
    "\n",
    "It is important to note that whilst we will be doing a lot of programming in this class, this **IS NOT** a programming class. This means we won't be assessing your code in any way. Given that programming chops aren't actually assessed, this means that us, the teaching team can help you out with any and all programming issues you might/will run into. If you have an idea for something you want to do, have tried implementing it yourself but are getting a red wall of text, we will gladly help you out. There is no one who should not be able to submit a piece of assessment because you wanted to implement something but couldn't, or because they were stuck at a big wall of red text that Python decided to throw your way. We will gladly help you fix these issues, conditioned on the fact that you see us **EARLY**.\n",
    "\n",
    "This is a pretty big unit, and as you can imagine we only have finite resources to help people. If all of you message us 2 hours before an assignment is due on a Sunday night, you can probably expect to not get a lot of help, or at least we won't be able to help until it is too late. That being said, if you have a red wall of text that is giving you grief, and you bring it to class a week or two before the assignment is due, we will gladly help you fix it. We won't just write out the solution for you (there isn't *one* solution to the assessment questions anyway), but if you tell us what you want to do, we will help you make it happen. All of us in the teaching team are experts at fixing things (we have all had to become expert fixers because we are experts at breaking things), so if you come to us with your problems early, we will help you fix it.\n",
    "\n",
    "This brings me to one last quick bit of advice I want to reiterate on; start your assessment **EARLY**. This goes for  anything that requires some programming. Things breaking is a natural part of the course when it comes to writing software, and it is much easier to fix when you don't have the dread of a nearing deadline weighing down on you have a capable and willing teaching team here to help. Again, not to toot our own horns, but we really are really, really good at fixing things. Give it all a solid attempt first, and any dramas just let us know and we will help, as long as you do it early :).\n",
    "\n",
    "With all that said, lets get stuck into it."
   ]
  },
  {
   "cell_type": "markdown",
   "id": "3ab96aaf",
   "metadata": {},
   "source": [
    "## Jupyter Notebooks\n",
    "\n",
    "For the vast majority of this class, we will be using Jupyter notebooks to present and deliver a lot of the content. Notebooks are great for educational purposes; we can actually provide meaningful documentation and discussions around what we are doing and have it is a nice readable format. We can also export it to a bunch of different formats as well like PDF or HTML.\n",
    "\n",
    "If you personally don't want to use notebooks for your work, that's fine - there is no requirement to do so. We'll assume at this point that you have a jupyter notebook environment up and running based on the guides on canvas, but there some other things that may be of interest.\n",
    "\n",
    "\n",
    "### Jupyterlab and other Interfaces to Notebooks\n",
    "\n",
    "Jupyter notebooks by themselves are pretty bare-bones and you might want some additional development tools to have on hand when you are working on your code. Jupyterlab is a sort of extended version of just Jupyter by itself that adds a lot of features. You can install it and then run it (assuming you have a conda install) with something like;\n",
    "\n",
    "```\n",
    "# again make sure have activated the cab420 environment.\n",
    "# only need to do this once per terminal session but good to remind you\n",
    "conda activate cab420\n",
    "# install jupyter lab and then run it\n",
    "pip install jupyterlab\n",
    "# then run it\n",
    "jupyterlab\n",
    "```\n",
    "\n",
    "Then this will open up Jupyterlab in your browser.\n",
    "\n",
    "There are other interfaces to Jupyter notebooks you might want to use. If you use VSCode, there is inbuilt support for it there that I know a lot of students in the past have used. I have never used it, but it looks ok. I personally use Emacs, because I live my life inside Emacs and so does everyone else who uses Emacs, and as a result there is a nice Jupyter notebook interface to that there. This is just to say you don't have to use Jupyter or Jupyterlab, can use whatever you like and are confortable with."
   ]
  },
  {
   "cell_type": "markdown",
   "id": "78661f76",
   "metadata": {},
   "source": [
    "## Packages in Python\n",
    "\n",
    "Unlike other languages used for scientific computing, python doesn't actually have a lot of things\n",
    "built into it. The language wasn't designed for machine learning by any means, and in many ways it\n",
    "isn't a good language to use for such purposes. Scientific computing, and especially machine learning\n",
    "can require crunching a lot of numbers, and as a result it would be nice if the language used to develop\n",
    "for these purposes boasted huge performance. Python doesn't really do that very well by itself; it is a\n",
    "dynamically-typed interpreted language, which basically means it isn't fast (compared to other languages\n",
    "like C or Julia). What python is though is a nice programming language to actually program in. The properties\n",
    "that make it slow are exactly what makes it convenient to use.\n",
    "\n",
    "You might think that us using Python doesn't make much sense for the task at hand given what we want to do\n",
    "is really what python sucks at. The python community has largely addressed this issue with the development \n",
    "of highly optimised packages that are written in lower level, statically typed and compiled languages. This\n",
    "sort of makes Python like an API; we are able to get access to a lot of optimised routines to do a lot of the \n",
    "heavy lifting from the comfy python environments that we know and love. For that reason we are going to spend just\n",
    "a little bit of time going over  these optimised packages, as not only do they make things fast, they also implement\n",
    "a lot of the key features and functionality that you would want for your machine learning adventures.\n",
    "\n",
    "\n",
    "If you followed the instructions above to create the `cab420` virtual environment before, than you won't need to install most of the packages\n",
    "needed for this unit, but is still good to know as you are likely to need it at some point.\n"
   ]
  },
  {
   "cell_type": "markdown",
   "id": "acba3262",
   "metadata": {},
   "source": [
    "## Installing packages\n",
    "\n",
    "**NOTE**: If you followed the instructions to create the `cab420` environment above, than make sure you have activated the environment before trying to install any new packages into it.\n",
    "\n",
    "Python has a package manager called `pip` package manager, which we actually saw a sneak peek of earlier in the Jupyter setup section. If you are unfamiliar with using `pip` or getting a Python environment installed, you should see it is pretty easy once you have the python toolchain installed using the `conda` instructions shown above. If you aren't using those instructions, than Google will be your best friend and can probably help you out more than I could here. \n",
    "\n",
    "With pip we can install packages in a couple ways. One way is though a command line prompt for your machine, where you can run the command,\n",
    "```\n",
    "pip install supersnazzypackage \n",
    "```\n",
    "\n",
    "Another option to do so is actually within Jupyter notebooks where we use the Magic commands available. This is done where  we prefix a `!` to a command in a code cell, and Jupyter will interpret it as an external command. We will use it here to install the first package numpy."
   ]
  },
  {
   "cell_type": "code",
   "execution_count": 1,
   "id": "7ca94e6f",
   "metadata": {},
   "outputs": [
    {
     "name": "stdout",
     "output_type": "stream",
     "text": [
      "Requirement already satisfied: numpy in /home/simon/venvs/cab420/lib/python3.8/site-packages (1.22.3)\r\n"
     ]
    }
   ],
   "source": [
    "!pip install numpy"
   ]
  },
  {
   "cell_type": "markdown",
   "id": "0042191e",
   "metadata": {},
   "source": [
    "You can  see for me it is already installed so good to go, but hopefully shows you how it is done. This only needs to be run once."
   ]
  },
  {
   "cell_type": "markdown",
   "id": "fcccae11",
   "metadata": {},
   "source": [
    "## Importing Packages \n",
    "\n",
    "After we install packages, we need to tell our current Python session to import the functionality provided by the packages. We do this with the `import` statement. When we do this, we also have the option to provide an alias to the package reference. We do this with that `as` command. That way when I want to refer to say the sine function in numpy, I don't need to write `numpy.sin`, I can write `np.sin`. Is a small quality of life thing but I will take it."
   ]
  },
  {
   "cell_type": "markdown",
   "id": "c5aa18c3",
   "metadata": {},
   "source": [
    "## Viewing Installed packages \n",
    "\n",
    "You can view installed packages using the `pip freeze` command. You can run this in a command like where you have the `cab420` environment enabled, or you can again use the magic commands in Jupyter to run it here."
   ]
  },
  {
   "cell_type": "code",
   "execution_count": 2,
   "id": "d24cba08",
   "metadata": {},
   "outputs": [
    {
     "name": "stdout",
     "output_type": "stream",
     "text": [
      "absl-py==1.0.0\r\n",
      "appdirs==1.4.4\r\n",
      "argon2-cffi==21.3.0\r\n",
      "argon2-cffi-bindings==21.2.0\r\n",
      "asttokens==2.0.5\r\n",
      "astunparse==1.6.3\r\n",
      "attrs==21.4.0\r\n",
      "audioread==3.0.0\r\n",
      "backcall==0.2.0\r\n",
      "beautifulsoup4==4.11.1\r\n",
      "bleach==5.0.0\r\n",
      "cachetools==5.0.0\r\n",
      "certifi==2021.10.8\r\n",
      "cffi==1.15.0\r\n",
      "charset-normalizer==2.0.12\r\n",
      "click==8.1.3\r\n",
      "cloudpickle==2.2.0\r\n",
      "cycler==0.11.0\r\n",
      "debugpy==1.6.0\r\n",
      "decorator==5.1.1\r\n",
      "defusedxml==0.7.1\r\n",
      "dill==0.3.5.1\r\n",
      "entrypoints==0.4\r\n",
      "etils==0.6.0\r\n",
      "executing==0.8.3\r\n",
      "fastjsonschema==2.15.3\r\n",
      "flatbuffers==23.1.21\r\n",
      "flirimageextractor==1.4.0\r\n",
      "fonttools==4.33.2\r\n",
      "gast==0.4.0\r\n",
      "google-auth==2.6.6\r\n",
      "google-auth-oauthlib==0.4.6\r\n",
      "google-pasta==0.2.0\r\n",
      "googleapis-common-protos==1.56.4\r\n",
      "grpcio==1.44.0\r\n",
      "h5py==3.6.0\r\n",
      "idna==3.3\r\n",
      "imageio==2.19.5\r\n",
      "importlib-metadata==4.11.3\r\n",
      "importlib-resources==5.7.1\r\n",
      "ipykernel==6.13.0\r\n",
      "ipython==8.2.0\r\n",
      "ipython-genutils==0.2.0\r\n",
      "ipywidgets==7.7.0\r\n",
      "jedi==0.18.1\r\n",
      "Jinja2==3.1.1\r\n",
      "joblib==1.2.0\r\n",
      "jsonschema==4.4.0\r\n",
      "jupyter==1.0.0\r\n",
      "jupyter-client==7.2.2\r\n",
      "jupyter-console==6.4.3\r\n",
      "jupyter-core==4.10.0\r\n",
      "jupyterlab-pygments==0.2.2\r\n",
      "jupyterlab-widgets==1.1.0\r\n",
      "keras==2.11.0\r\n",
      "keras-flops==0.1.2\r\n",
      "Keras-Preprocessing==1.1.2\r\n",
      "kiwisolver==1.4.2\r\n",
      "libclang==13.0.0\r\n",
      "librosa==0.9.2\r\n",
      "llvmlite==0.39.1\r\n",
      "loguru==0.6.0\r\n",
      "Markdown==3.3.6\r\n",
      "MarkupSafe==2.1.1\r\n",
      "matplotlib==3.5.1\r\n",
      "matplotlib-inline==0.1.3\r\n",
      "mistune==0.8.4\r\n",
      "nbclient==0.6.0\r\n",
      "nbconvert==6.5.0\r\n",
      "nbformat==5.3.0\r\n",
      "nest-asyncio==1.5.5\r\n",
      "networkx==2.8.5\r\n",
      "nltk==3.7\r\n",
      "notebook==6.4.11\r\n",
      "numba==0.56.4\r\n",
      "numpy==1.22.3\r\n",
      "oauthlib==3.2.0\r\n",
      "opencv-python==4.5.5.64\r\n",
      "opt-einsum==3.3.0\r\n",
      "packaging==21.3\r\n",
      "pandas==1.4.2\r\n",
      "pandocfilters==1.5.0\r\n",
      "parso==0.8.3\r\n",
      "patsy==0.5.2\r\n",
      "pexpect==4.8.0\r\n",
      "pickleshare==0.7.5\r\n",
      "Pillow==9.1.0\r\n",
      "pooch==1.6.0\r\n",
      "prometheus-client==0.14.1\r\n",
      "promise==2.3\r\n",
      "prompt-toolkit==3.0.29\r\n",
      "protobuf==3.19.4\r\n",
      "psutil==5.9.0\r\n",
      "ptyprocess==0.7.0\r\n",
      "pure-eval==0.2.2\r\n",
      "pyasn1==0.4.8\r\n",
      "pyasn1-modules==0.2.8\r\n",
      "pycparser==2.21\r\n",
      "pydot==1.4.2\r\n",
      "Pygments==2.11.2\r\n",
      "pyparsing==3.0.8\r\n",
      "pyrsistent==0.18.1\r\n",
      "python-dateutil==2.8.2\r\n",
      "pytz==2022.1\r\n",
      "PyWavelets==1.3.0\r\n",
      "pyzmq==22.3.0\r\n",
      "qtconsole==5.3.0\r\n",
      "QtPy==2.0.1\r\n",
      "regex==2022.7.25\r\n",
      "requests==2.27.1\r\n",
      "requests-oauthlib==1.3.1\r\n",
      "resampy==0.4.2\r\n",
      "rsa==4.8\r\n",
      "scikit-image==0.19.3\r\n",
      "scikit-learn==1.2.0\r\n",
      "scipy==1.8.0\r\n",
      "seaborn==0.11.2\r\n",
      "Send2Trash==1.8.0\r\n",
      "shap==0.41.0\r\n",
      "six==1.16.0\r\n",
      "slicer==0.0.7\r\n",
      "soundfile==0.11.0\r\n",
      "soupsieve==2.3.2.post1\r\n",
      "stack-data==0.2.0\r\n",
      "statsmodels==0.13.2\r\n",
      "style==1.1.0\r\n",
      "tensorboard==2.11.2\r\n",
      "tensorboard-data-server==0.6.1\r\n",
      "tensorboard-plugin-wit==1.8.1\r\n",
      "tensorflow==2.11.0\r\n",
      "tensorflow-addons==0.17.1\r\n",
      "tensorflow-datasets==4.6.0\r\n",
      "tensorflow-estimator==2.11.0\r\n",
      "tensorflow-io==0.25.0\r\n",
      "tensorflow-io-gcs-filesystem==0.25.0\r\n",
      "tensorflow-metadata==1.9.0\r\n",
      "termcolor==1.1.0\r\n",
      "terminado==0.13.3\r\n",
      "tf-estimator-nightly==2.8.0.dev2021122109\r\n",
      "threadpoolctl==3.1.0\r\n",
      "tifffile==2022.5.4\r\n",
      "tinycss2==1.1.1\r\n",
      "toml==0.10.2\r\n",
      "tornado==6.1\r\n",
      "tqdm==4.64.0\r\n",
      "traitlets==5.1.1\r\n",
      "typeguard==2.13.3\r\n",
      "typing-extensions==4.2.0\r\n",
      "update==0.0.1\r\n",
      "urllib3==1.26.9\r\n",
      "wcwidth==0.2.5\r\n",
      "webencodings==0.5.1\r\n",
      "Werkzeug==2.1.1\r\n",
      "widgetsnbextension==3.6.0\r\n",
      "wrapt==1.14.0\r\n",
      "XML2Dict==0.2.2\r\n",
      "xmltodict==0.13.0\r\n",
      "zipp==3.8.0\r\n"
     ]
    }
   ],
   "source": [
    "!pip freeze"
   ]
  },
  {
   "cell_type": "markdown",
   "id": "c29f17ff",
   "metadata": {},
   "source": [
    "Alright with importing and installing packages done, lets get stuck into actually using some of them, and we will start with probably the main one being numpy."
   ]
  },
  {
   "cell_type": "markdown",
   "id": "a929fb03",
   "metadata": {},
   "source": [
    "## Numpy\n",
    "\n",
    "Numpy describes itself as \"The fundamental package for scientific computing with Python\" [2], and I would have to agree. Pretty much whenever you start up Python, you will probably want something from Numpy and almost wish it was automatically imported.\n",
    "\n",
    "Numpy provides a nice interface to heavily optimised math operations. Lets see how we can use it a bit. "
   ]
  },
  {
   "cell_type": "code",
   "execution_count": 3,
   "id": "dbed6b74",
   "metadata": {},
   "outputs": [],
   "source": [
    "# need to import it\n",
    "import numpy as np"
   ]
  },
  {
   "cell_type": "markdown",
   "id": "bb5f2e94",
   "metadata": {},
   "source": [
    "The fundamental objects within numpy are arrays. We can have zero dimensional arrays (scalars), 1-d arrays (vectors), 2-d arrays (matricies), or n-D arrays. Numpy provides a nice interface to create these objects, and to manipulate them with mathematical operators."
   ]
  },
  {
   "cell_type": "code",
   "execution_count": 4,
   "id": "47d7ccb9",
   "metadata": {},
   "outputs": [
    {
     "name": "stdout",
     "output_type": "stream",
     "text": [
      "scalar = 0\n",
      "scalar shape = ()\n",
      "vector = [ 0  1  2  3  4  5  6  7  8  9 10]\n",
      "vector shape = (11,)\n",
      "matrix =\n",
      " [[1. 0. 0. 0.]\n",
      " [0. 1. 0. 0.]\n",
      " [0. 0. 1. 0.]\n",
      " [0. 0. 0. 1.]]\n",
      "matrix shape = (4, 4)\n",
      "3d_array =\n",
      " [[[-1.00097534  1.16495781  0.45255219  2.05829964]\n",
      "  [-1.86860034  0.7995801  -1.13674673 -2.27188991]\n",
      "  [ 0.40929625 -1.67444355  0.14480568  0.12590054]]\n",
      "\n",
      " [[ 0.91649053 -0.11128406  0.48780508  0.56452412]\n",
      "  [-1.49985832  1.35966879  0.93096667 -1.27181986]\n",
      "  [-0.31415348 -0.40270724  0.39903133 -1.76411962]]]\n",
      "3d_array shape = (2, 3, 4)\n"
     ]
    }
   ],
   "source": [
    "# scalar\n",
    "scalar = np.array(0)\n",
    "# vector of increasing values \n",
    "vector = np.array([0, 1, 2, 3, 5, 6, 7, 8, 9 , 10])\n",
    "# can create the same vector with vector \n",
    "vector = np.arange(0, 11) # note goes to 11 as last one not included \n",
    "# creating a diagonal matrix\n",
    "matrix = np.eye(4)\n",
    "# 3-D array of random numbers drawn from standard normal distribution\n",
    "# also demos how to draw random numbers\n",
    "# will make it of shape [2 x 3 x 4]\n",
    "three_d_array = np.random.randn(2,3,4)\n",
    "\n",
    "# lets print them now to have a look\n",
    "print(f'scalar = {scalar}')\n",
    "print(f'scalar shape = {scalar.shape}')\n",
    "print(f'vector = {vector}')\n",
    "print(f'vector shape = {vector.shape}')\n",
    "print(f'matrix =\\n {matrix}')\n",
    "print(f'matrix shape = {matrix.shape}')\n",
    "print(f'3d_array =\\n {three_d_array}')\n",
    "print(f'3d_array shape = {three_d_array.shape}')"
   ]
  },
  {
   "cell_type": "markdown",
   "id": "a7db9ad8",
   "metadata": {},
   "source": [
    "One thing you will almost certainly want to do at some point is extract a portion of data out from a np array. We can do this with the square brackets `[]` operator. There are a few shorthand notations that are well worth knowing as well. The main ones would be slicing indicies with a colon `:`, or indexing from the end of an array using `-1`\n",
    "\n",
    "Probably easiest to see it."
   ]
  },
  {
   "cell_type": "code",
   "execution_count": 5,
   "id": "f3bd198d",
   "metadata": {},
   "outputs": [
    {
     "data": {
      "text/plain": [
       "array([0, 1, 2])"
      ]
     },
     "execution_count": 5,
     "metadata": {},
     "output_type": "execute_result"
    }
   ],
   "source": [
    "# lets extract the first three digits from our vector\n",
    "vector[0:3] "
   ]
  },
  {
   "cell_type": "code",
   "execution_count": 6,
   "id": "ed291b76",
   "metadata": {},
   "outputs": [
    {
     "data": {
      "text/plain": [
       "array([8, 9])"
      ]
     },
     "execution_count": 6,
     "metadata": {},
     "output_type": "execute_result"
    }
   ],
   "source": [
    "# lets try the last three digits of the same vector\n",
    "vector[-3:-1]\n"
   ]
  },
  {
   "cell_type": "markdown",
   "id": "c68e6e03",
   "metadata": {},
   "source": [
    "It only extracted the second and third last, because python is not inclusive of the end indicies. We can fix this by doing something like,"
   ]
  },
  {
   "cell_type": "code",
   "execution_count": 7,
   "id": "e9c2b11a",
   "metadata": {},
   "outputs": [
    {
     "data": {
      "text/plain": [
       "array([ 8,  9, 10])"
      ]
     },
     "execution_count": 7,
     "metadata": {},
     "output_type": "execute_result"
    }
   ],
   "source": [
    "# using double colon will say just keep going along this dimension until we get to the end\n",
    "vector[-3::] "
   ]
  },
  {
   "cell_type": "markdown",
   "id": "1bb83f38",
   "metadata": {},
   "source": [
    "Lets do something similar for arrays with multiple dimensions, and we will look at methods to reshape arrays as this is pretty common too."
   ]
  },
  {
   "cell_type": "code",
   "execution_count": 8,
   "id": "197c310a",
   "metadata": {},
   "outputs": [
    {
     "name": "stdout",
     "output_type": "stream",
     "text": [
      "[[0 1 2]\n",
      " [3 4 5]\n",
      " [6 7 8]]\n"
     ]
    }
   ],
   "source": [
    "vector = np.arange(0, 9)\n",
    "# reshape to a 3 x 3 matrix\n",
    "matrix = vector.reshape(3, 3)\n",
    "print(matrix)"
   ]
  },
  {
   "cell_type": "markdown",
   "id": "15b4ca7b",
   "metadata": {},
   "source": [
    "Lets get some of the rows and columns now. If we want to keep everything in one dimension, we just use the colon `:` to say keep everything from that dimension."
   ]
  },
  {
   "cell_type": "code",
   "execution_count": 9,
   "id": "f2defbcf",
   "metadata": {},
   "outputs": [
    {
     "name": "stdout",
     "output_type": "stream",
     "text": [
      "[0 1 2]\n"
     ]
    }
   ],
   "source": [
    "# index first row (zero index in python) and keep every column entry from there\n",
    "row_1 = matrix[0, :]\n",
    "print(row_1)"
   ]
  },
  {
   "cell_type": "code",
   "execution_count": 10,
   "id": "7a39a6e1",
   "metadata": {},
   "outputs": [
    {
     "name": "stdout",
     "output_type": "stream",
     "text": [
      "[2 5 8]\n"
     ]
    }
   ],
   "source": [
    "# index last column and keep every row entry from there\n",
    "column_1 = matrix[:, -1]\n",
    "print(column_1)\n"
   ]
  },
  {
   "cell_type": "code",
   "execution_count": 11,
   "id": "b4b86ca6",
   "metadata": {},
   "outputs": [
    {
     "name": "stdout",
     "output_type": "stream",
     "text": [
      "[[0 1]\n",
      " [3 4]]\n"
     ]
    }
   ],
   "source": [
    "# lets get the top left 2x2 square from this array\n",
    "top_left_square = matrix[0:2, 0:2]\n",
    "print(top_left_square)"
   ]
  },
  {
   "cell_type": "markdown",
   "id": "4690f82c",
   "metadata": {},
   "source": [
    "Alright we have played around with numpy a bit and manipulated some basic arrays. Lets get some numbers and look at some functions. Lets try and make the sin function on the range from $[0, 2\\pi]$."
   ]
  },
  {
   "cell_type": "code",
   "execution_count": 12,
   "id": "73f1549b",
   "metadata": {},
   "outputs": [],
   "source": [
    "# creating array for x variable\n",
    "# want say 1000 evenly spaced samples from [0, 2pi]\n",
    "num_samples = 1000\n",
    "x = np.linspace(0, 2 * np.pi, num_samples)\n",
    "y = np.sin(x)\n",
    "# can print these if you want to look at what is inside yourself\n",
    "# print(x)\n",
    "# print(y)"
   ]
  },
  {
   "cell_type": "markdown",
   "id": "5c5f3258",
   "metadata": {},
   "source": [
    "## Pretty figures with Matplotlib\n",
    "\n",
    "We made a $\\sin$ function just before, and want to make a pretty plot of it to hang on mums fridge. This is where  Matplotlib comes in. There is a bunch of different ways to generate plots with Matplotlib, and to be honest I rarely remember how to do it all off the top of my head. When I need help, I look to Matplotlibs documentation as it is quite comprehensive, and if I am in doubt, Google saves me."
   ]
  },
  {
   "cell_type": "code",
   "execution_count": 13,
   "id": "78ed11e6",
   "metadata": {},
   "outputs": [],
   "source": [
    "import matplotlib.pyplot as plt"
   ]
  },
  {
   "cell_type": "code",
   "execution_count": 14,
   "id": "ecc70647",
   "metadata": {},
   "outputs": [
    {
     "data": {
      "text/plain": [
       "<matplotlib.legend.Legend at 0x7f3e28c2cbb0>"
      ]
     },
     "execution_count": 14,
     "metadata": {},
     "output_type": "execute_result"
    },
    {
     "data": {
      "image/png": "[encoded data removed]",
      "text/plain": [
       "<Figure size 432x288 with 1 Axes>"
      ]
     },
     "metadata": {
      "needs_background": "light"
     },
     "output_type": "display_data"
    }
   ],
   "source": [
    "# lets plot the previous image\n",
    "fig, ax = plt.subplots()  # Create a figure containing a single axes.\n",
    "# Plot some data on the axes and give it a label so we can add a legend later\n",
    "ax.plot(x, y, label='sine function')  \n",
    "# lets add a title and some axis labels\n",
    "ax.set_xlabel('x variable')\n",
    "ax.set_ylabel('y variable')\n",
    "ax.set_title('Sine function')\n",
    "ax.legend()\n"
   ]
  },
  {
   "cell_type": "markdown",
   "id": "03fc2697",
   "metadata": {},
   "source": [
    "Matplotlib can create figures of just about anything. Lets see this in action,  but for more examples should refer to the extensive Matplotlib examples page [3]"
   ]
  },
  {
   "cell_type": "code",
   "execution_count": 15,
   "id": "c80cfd55",
   "metadata": {},
   "outputs": [
    {
     "data": {
      "text/plain": [
       "<matplotlib.legend.Legend at 0x7f3e26ab3cd0>"
      ]
     },
     "execution_count": 15,
     "metadata": {},
     "output_type": "execute_result"
    },
    {
     "data": {
      "image/png": "[encoded data removed]",
      "text/plain": [
       "<Figure size 432x288 with 1 Axes>"
      ]
     },
     "metadata": {
      "needs_background": "light"
     },
     "output_type": "display_data"
    }
   ],
   "source": [
    "# lets plot a Gaussian distribution probability density function and a histogram\n",
    "# of samples from the distribution on the same plot\n",
    "\n",
    "# creating gaussian PDF\n",
    "x = np.linspace(-4, 4, 1000)\n",
    "gaussian_pdf = 1 / (np.sqrt(2 * np.pi)) * np.exp(- 0.5 * x ** 2.0)\n",
    "# now lets draw a bunch of random samples from a standard normal\n",
    "# which we can use to create a histogram of\n",
    "# Will draw 10000 samples \n",
    "gaussian_samples = np.random.randn(10000) \n",
    "# now lets plot it all\n",
    "# copying some of the code above and changing just what we need\n",
    "fig, ax = plt.subplots()  # Create a figure containing a single axes.\n",
    "# Plot some data on the axes and give it a label so we can add a legend later\n",
    "# lets also control the color now\n",
    "# Am using HTML codes for colors here\n",
    "ax.plot(x, gaussian_pdf, label='True PDF', color='#dd7878', linewidth=5)  \n",
    "# now lets get the histogram of it\n",
    "# The histogram should resemble the true probability density function\n",
    "ax.hist(gaussian_samples, density=True,\n",
    "        bins=100, label='Estimated PDF',\n",
    "        color='#209fb5',\n",
    "        alpha=0.6) # alpha controls the transparency\n",
    "# lets add a title and some axis labels\n",
    "ax.set_xlabel('x variable')\n",
    "ax.set_ylabel('y variable')\n",
    "ax.set_title('Gaussian PDF')\n",
    "ax.legend()\n"
   ]
  },
  {
   "cell_type": "markdown",
   "id": "7e8433d8",
   "metadata": {},
   "source": [
    "Matplotlib can also plot images. Lets do that now by pulling an image from the Matplotlib Cookbook."
   ]
  },
  {
   "cell_type": "code",
   "execution_count": 16,
   "id": "35bad8e6",
   "metadata": {},
   "outputs": [
    {
     "data": {
      "text/plain": [
       "Text(0, 0.5, 'Frequency')"
      ]
     },
     "execution_count": 16,
     "metadata": {},
     "output_type": "execute_result"
    },
    {
     "data": {
      "image/png": "[encoded data removed]",
      "text/plain": [
       "<Figure size 864x432 with 2 Axes>"
      ]
     },
     "metadata": {
      "needs_background": "light"
     },
     "output_type": "display_data"
    }
   ],
   "source": [
    "# importing the cookbook from matplotlib just because it can give us example images\n",
    "import matplotlib.cbook as cbook\n",
    "# load in an MRI image from the matplotlib cookbook\n",
    "with cbook.get_sample_data('s1045.ima.gz') as datafile:\n",
    "    mri_data = datafile.read()\n",
    "mri_image = np.frombuffer(mri_data, np.uint16).astype(float).reshape(256, 256)\n",
    "# lets plot it, but also plot something next to it.\n",
    "# Lets plot the histogram of pixel intensities next to it\n",
    " \n",
    "# copying some of the code above and changing just what we need\n",
    "# now need two axes as there is two subplots\n",
    "# also going to make the figure a little wider\n",
    "fig, (ax1, ax2) = plt.subplots(1, 2, figsize=(12, 6))  \n",
    "# on the first subplot, plot the image itself\n",
    "ax1.imshow(mri_image)\n",
    "ax1.set_title('MRI image')\n",
    "# now to plot image intensity histograms\n",
    "# reshape with -1 as the new size will cause it to flatten\n",
    "# to a vector\n",
    "ax2.hist(mri_image.reshape(-1), bins=60)\n",
    "ax2.set_xlabel('Pixel value')\n",
    "ax2.set_ylabel('Frequency')"
   ]
  },
  {
   "cell_type": "markdown",
   "id": "e5f283bb",
   "metadata": {},
   "source": [
    "## More with subplots\n",
    "\n",
    "We are going to be doing a lot of stuff with images in this unit, and will probably want to plot a lot of examples in subplots. Is worthwhile spending a bit of time adding some examples for that here. We will use the `tensorflow` package to load in some example images of  the MNIST dataset, which we will see a lot of later in the semester."
   ]
  },
  {
   "cell_type": "code",
   "execution_count": 17,
   "id": "bf980bf2",
   "metadata": {},
   "outputs": [
    {
     "name": "stdout",
     "output_type": "stream",
     "text": [
      "Requirement already satisfied: tensorflow in /home/simon/venvs/cab420/lib/python3.8/site-packages (2.11.0)\n",
      "Requirement already satisfied: protobuf<3.20,>=3.9.2 in /home/simon/venvs/cab420/lib/python3.8/site-packages (from tensorflow) (3.19.4)\n",
      "Requirement already satisfied: flatbuffers>=2.0 in /home/simon/venvs/cab420/lib/python3.8/site-packages (from tensorflow) (23.1.21)\n",
      "Requirement already satisfied: google-pasta>=0.1.1 in /home/simon/venvs/cab420/lib/python3.8/site-packages (from tensorflow) (0.2.0)\n",
      "Requirement already satisfied: absl-py>=1.0.0 in /home/simon/venvs/cab420/lib/python3.8/site-packages (from tensorflow) (1.0.0)\n",
      "Requirement already satisfied: tensorflow-estimator<2.12,>=2.11.0 in /home/simon/venvs/cab420/lib/python3.8/site-packages (from tensorflow) (2.11.0)\n",
      "Requirement already satisfied: termcolor>=1.1.0 in /home/simon/venvs/cab420/lib/python3.8/site-packages (from tensorflow) (1.1.0)\n",
      "Requirement already satisfied: typing-extensions>=3.6.6 in /home/simon/venvs/cab420/lib/python3.8/site-packages (from tensorflow) (4.2.0)\n",
      "Requirement already satisfied: numpy>=1.20 in /home/simon/venvs/cab420/lib/python3.8/site-packages (from tensorflow) (1.22.3)\n",
      "Requirement already satisfied: setuptools in /home/simon/venvs/cab420/lib/python3.8/site-packages (from tensorflow) (44.0.0)\n",
      "Requirement already satisfied: six>=1.12.0 in /home/simon/venvs/cab420/lib/python3.8/site-packages (from tensorflow) (1.16.0)\n",
      "Requirement already satisfied: tensorflow-io-gcs-filesystem>=0.23.1; platform_machine != \"arm64\" or platform_system != \"Darwin\" in /home/simon/venvs/cab420/lib/python3.8/site-packages (from tensorflow) (0.25.0)\n",
      "Requirement already satisfied: h5py>=2.9.0 in /home/simon/venvs/cab420/lib/python3.8/site-packages (from tensorflow) (3.6.0)\n",
      "Requirement already satisfied: opt-einsum>=2.3.2 in /home/simon/venvs/cab420/lib/python3.8/site-packages (from tensorflow) (3.3.0)\n",
      "Requirement already satisfied: libclang>=13.0.0 in /home/simon/venvs/cab420/lib/python3.8/site-packages (from tensorflow) (13.0.0)\n",
      "Requirement already satisfied: gast<=0.4.0,>=0.2.1 in /home/simon/venvs/cab420/lib/python3.8/site-packages (from tensorflow) (0.4.0)\n",
      "Requirement already satisfied: tensorboard<2.12,>=2.11 in /home/simon/venvs/cab420/lib/python3.8/site-packages (from tensorflow) (2.11.2)\n",
      "Requirement already satisfied: keras<2.12,>=2.11.0 in /home/simon/venvs/cab420/lib/python3.8/site-packages (from tensorflow) (2.11.0)\n",
      "Requirement already satisfied: grpcio<2.0,>=1.24.3 in /home/simon/venvs/cab420/lib/python3.8/site-packages (from tensorflow) (1.44.0)\n",
      "Requirement already satisfied: wrapt>=1.11.0 in /home/simon/venvs/cab420/lib/python3.8/site-packages (from tensorflow) (1.14.0)\n",
      "Requirement already satisfied: packaging in /home/simon/venvs/cab420/lib/python3.8/site-packages (from tensorflow) (21.3)\n",
      "Requirement already satisfied: astunparse>=1.6.0 in /home/simon/venvs/cab420/lib/python3.8/site-packages (from tensorflow) (1.6.3)\n",
      "Requirement already satisfied: requests<3,>=2.21.0 in /home/simon/venvs/cab420/lib/python3.8/site-packages (from tensorboard<2.12,>=2.11->tensorflow) (2.27.1)\n",
      "Requirement already satisfied: google-auth<3,>=1.6.3 in /home/simon/venvs/cab420/lib/python3.8/site-packages (from tensorboard<2.12,>=2.11->tensorflow) (2.6.6)\n",
      "Requirement already satisfied: markdown>=2.6.8 in /home/simon/venvs/cab420/lib/python3.8/site-packages (from tensorboard<2.12,>=2.11->tensorflow) (3.3.6)\n",
      "Requirement already satisfied: tensorboard-plugin-wit>=1.6.0 in /home/simon/venvs/cab420/lib/python3.8/site-packages (from tensorboard<2.12,>=2.11->tensorflow) (1.8.1)\n",
      "Requirement already satisfied: wheel>=0.26 in /home/simon/venvs/cab420/lib/python3.8/site-packages (from tensorboard<2.12,>=2.11->tensorflow) (0.34.2)\n",
      "Requirement already satisfied: google-auth-oauthlib<0.5,>=0.4.1 in /home/simon/venvs/cab420/lib/python3.8/site-packages (from tensorboard<2.12,>=2.11->tensorflow) (0.4.6)\n",
      "Requirement already satisfied: werkzeug>=1.0.1 in /home/simon/venvs/cab420/lib/python3.8/site-packages (from tensorboard<2.12,>=2.11->tensorflow) (2.1.1)\n",
      "Requirement already satisfied: tensorboard-data-server<0.7.0,>=0.6.0 in /home/simon/venvs/cab420/lib/python3.8/site-packages (from tensorboard<2.12,>=2.11->tensorflow) (0.6.1)\n",
      "Requirement already satisfied: pyparsing!=3.0.5,>=2.0.2 in /home/simon/venvs/cab420/lib/python3.8/site-packages (from packaging->tensorflow) (3.0.8)\n",
      "Requirement already satisfied: urllib3<1.27,>=1.21.1 in /home/simon/venvs/cab420/lib/python3.8/site-packages (from requests<3,>=2.21.0->tensorboard<2.12,>=2.11->tensorflow) (1.26.9)\n",
      "Requirement already satisfied: idna<4,>=2.5; python_version >= \"3\" in /home/simon/venvs/cab420/lib/python3.8/site-packages (from requests<3,>=2.21.0->tensorboard<2.12,>=2.11->tensorflow) (3.3)\n",
      "Requirement already satisfied: charset-normalizer~=2.0.0; python_version >= \"3\" in /home/simon/venvs/cab420/lib/python3.8/site-packages (from requests<3,>=2.21.0->tensorboard<2.12,>=2.11->tensorflow) (2.0.12)\n",
      "Requirement already satisfied: certifi>=2017.4.17 in /home/simon/venvs/cab420/lib/python3.8/site-packages (from requests<3,>=2.21.0->tensorboard<2.12,>=2.11->tensorflow) (2021.10.8)\n",
      "Requirement already satisfied: cachetools<6.0,>=2.0.0 in /home/simon/venvs/cab420/lib/python3.8/site-packages (from google-auth<3,>=1.6.3->tensorboard<2.12,>=2.11->tensorflow) (5.0.0)\n",
      "Requirement already satisfied: pyasn1-modules>=0.2.1 in /home/simon/venvs/cab420/lib/python3.8/site-packages (from google-auth<3,>=1.6.3->tensorboard<2.12,>=2.11->tensorflow) (0.2.8)\n",
      "Requirement already satisfied: rsa<5,>=3.1.4; python_version >= \"3.6\" in /home/simon/venvs/cab420/lib/python3.8/site-packages (from google-auth<3,>=1.6.3->tensorboard<2.12,>=2.11->tensorflow) (4.8)\n",
      "Requirement already satisfied: importlib-metadata>=4.4; python_version < \"3.10\" in /home/simon/venvs/cab420/lib/python3.8/site-packages (from markdown>=2.6.8->tensorboard<2.12,>=2.11->tensorflow) (4.11.3)\n",
      "Requirement already satisfied: requests-oauthlib>=0.7.0 in /home/simon/venvs/cab420/lib/python3.8/site-packages (from google-auth-oauthlib<0.5,>=0.4.1->tensorboard<2.12,>=2.11->tensorflow) (1.3.1)\n",
      "Requirement already satisfied: pyasn1<0.5.0,>=0.4.6 in /home/simon/venvs/cab420/lib/python3.8/site-packages (from pyasn1-modules>=0.2.1->google-auth<3,>=1.6.3->tensorboard<2.12,>=2.11->tensorflow) (0.4.8)\n",
      "Requirement already satisfied: zipp>=0.5 in /home/simon/venvs/cab420/lib/python3.8/site-packages (from importlib-metadata>=4.4; python_version < \"3.10\"->markdown>=2.6.8->tensorboard<2.12,>=2.11->tensorflow) (3.8.0)\n",
      "Requirement already satisfied: oauthlib>=3.0.0 in /home/simon/venvs/cab420/lib/python3.8/site-packages (from requests-oauthlib>=0.7.0->google-auth-oauthlib<0.5,>=0.4.1->tensorboard<2.12,>=2.11->tensorflow) (3.2.0)\n"
     ]
    }
   ],
   "source": [
    "# already installed for me but still\n",
    "!pip install tensorflow "
   ]
  },
  {
   "cell_type": "code",
   "execution_count": 18,
   "id": "057edd2b",
   "metadata": {},
   "outputs": [
    {
     "name": "stderr",
     "output_type": "stream",
     "text": [
      "2023-02-07 19:12:33.620029: I tensorflow/core/platform/cpu_feature_guard.cc:193] This TensorFlow binary is optimized with oneAPI Deep Neural Network Library (oneDNN) to use the following CPU instructions in performance-critical operations:  AVX2 AVX512F AVX512_VNNI FMA\n",
      "To enable them in other operations, rebuild TensorFlow with the appropriate compiler flags.\n",
      "2023-02-07 19:12:33.752473: I tensorflow/core/util/port.cc:104] oneDNN custom operations are on. You may see slightly different numerical results due to floating-point round-off errors from different computation orders. To turn them off, set the environment variable `TF_ENABLE_ONEDNN_OPTS=0`.\n",
      "2023-02-07 19:12:34.302012: W tensorflow/compiler/xla/stream_executor/platform/default/dso_loader.cc:64] Could not load dynamic library 'libnvinfer.so.7'; dlerror: libnvinfer.so.7: cannot open shared object file: No such file or directory\n",
      "2023-02-07 19:12:34.302163: W tensorflow/compiler/xla/stream_executor/platform/default/dso_loader.cc:64] Could not load dynamic library 'libnvinfer_plugin.so.7'; dlerror: libnvinfer_plugin.so.7: cannot open shared object file: No such file or directory\n",
      "2023-02-07 19:12:34.302171: W tensorflow/compiler/tf2tensorrt/utils/py_utils.cc:38] TF-TRT Warning: Cannot dlopen some TensorRT libraries. If you would like to use Nvidia GPU with TensorRT, please make sure the missing libraries mentioned above are installed properly.\n"
     ]
    },
    {
     "data": {
      "image/png": "[encoded data removed]",
      "text/plain": [
       "<Figure size 1152x432 with 16 Axes>"
      ]
     },
     "metadata": {
      "needs_background": "light"
     },
     "output_type": "display_data"
    }
   ],
   "source": [
    "# get the mnist dataset\n",
    "import tensorflow as tf\n",
    "(train_x, train_y), (test_x, test_y) = tf.keras.datasets.mnist.load_data()\n",
    "# lets create a plot of some of them\n",
    "# will make a 2 x 8 subplot\n",
    "# copying some of the code above and changing just what we need\n",
    "# now need two axes as there is two subplots\n",
    "# also going to make the figure a little wider\n",
    "fig, axs = plt.subplots(2, 8, figsize=(16, 6))  \n",
    "# on the first subplot, plot the image itself\n",
    "# now we will iterate over few of them.\n",
    "idx = 0\n",
    "for col_idx in range(0, 8): \n",
    "    for row_idx in range(0, 2): \n",
    "        # the np.squeeze will remove and dimensions that have length of one\n",
    "        # from an array. Say we have an image of shape [1, 28, 28, 1],\n",
    "        # which can often happen with how our datasets are formed, then the\n",
    "        # np.squeeze() will make it of shape [28, 28]\n",
    "        axs[row_idx, col_idx].imshow(np.squeeze(train_x[idx, :, :]))\n",
    "        axs[row_idx, col_idx].set_title(f'label = {train_y[idx]}')\n",
    "        # increment the image index counter \n",
    "        idx += 1\n"
   ]
  },
  {
   "cell_type": "markdown",
   "id": "f2aa8b6d",
   "metadata": {},
   "source": [
    "## Saving Figures\n",
    "\n",
    "One thing I constantly see is students just taking screenshots of the figures their code generated (or worse, taking a picture with their phone and using that). Don't do that, we can just save our figures programmatically, and we can save them in the most appropriate format.\n",
    "\n",
    "### Recommended format\n",
    "\n",
    "If you are using $\\LaTeX$  for your reports (and I highly suggest you do, because Word is the worst), than save everything as a PDF. In $\\LaTeX$ you can insert all pdfs as figures and that way everything looks nice. When you generate plots and save them as a PDF, they will be saved as a vector graphic, which means that you can zoom in as much as you want and it will never get blurry.\n",
    "\n",
    "If you are using Word, probably just save everything as a PNG. It wont have the nice qualities of a vector graphic, but will still be ok.\n",
    "\n",
    "We can save figures using the command \n",
    "\n",
    "```\n",
    "fig.savefig('path_to_where_to_save_the_figure.pdf_or_png')\n",
    "```\n"
   ]
  },
  {
   "cell_type": "markdown",
   "id": "1e04d480",
   "metadata": {},
   "source": [
    "That should do if for plotting, but I will leave you with a couple exercises to try out.\n",
    "\n",
    "## Exercises\n",
    "\n",
    "1. The plots for the MNIST data is in the default colourmap for Matplotlib. It is most common for MNIST to be shown in just black and white. See if you can find information online about how to set the colourmap of an image or plot, and see if you can regenerate the above figure in black and white (hint, google `cmap`).\n",
    "2. Make a plot for a new function using Numpy and Matplotlib where you plot the Hyperbolic Cosine, Sine and Tangent functions (`np.cosh, np.sinh, np.tanh`)\n",
    "3. Try saving the figure you generated above in different formats (try PDF and PNG)\n",
    "4. Have a look at some of the examples on the Matplotlib site, and see if you can replicate them here.  https://matplotlib.org/stable/gallery/index.html"
   ]
  },
  {
   "cell_type": "markdown",
   "id": "428cf5c1",
   "metadata": {},
   "source": [
    "Matplotlib can do a bunch more, but I will leave it here. Hopefully have given you enough of an example to get you started. Just know that can always go to the Matplotlib examples page [3] for more info, or just Google."
   ]
  },
  {
   "cell_type": "markdown",
   "id": "68acf06b",
   "metadata": {},
   "source": [
    "## Pandas - or how to be 100 Million times better than Excel\n",
    "\n",
    "You should stop using Excel. \n",
    "\n",
    "Excel is great for what it is, but it is used for things that it really shouldn't be. Anything that is of moderate importance probably shouldn't be handled with Excel for a huge number of reasons, yet pretty much any business will have some form of data stored in an Excel spreadsheet somewhere. It is really hard to do good engineering with excel spreadsheets, and frankly the tools provided by it are so cumbersome and horrible to use.\n",
    "\n",
    "I think anyone who has spent any modest amount of time to try and parse the cryptic landscape of Excel macros or Visual basic would of been way better off learning just a touch of programming to allow them to follow some best practices with handling tabular data.\n",
    "\n",
    "We aren't going to go too much into best practices or anything here, but am sure you are all aware that a lot of data is stored in spreadsheets. Pandas is python's solution to handling this type of data, and if you spend a bit of time with it I am pretty confident you will agree that no serious business or analytics would be better performed in Excel.\n",
    "\n",
    "### 10 minute introduction to Pandas\n",
    "\n",
    "The official Pandas documentation has a really good getting started guide that I highly recommend.\n",
    "\n",
    "https://pandas.pydata.org/docs/user_guide/10min.html\n",
    "\n",
    "This shows the basics of Pandas for some toy problems.\n",
    "\n",
    "### Basic Datatypes in Pandas\n",
    "\n",
    "There  are two main datatypes within Pandas:\n",
    "\n",
    "1. `pd.Series`\n",
    "2. `pd.DataFrame`\n",
    "\n",
    "We can think of a `Series` as a single column of data, or say like a vector, so a one-dimensional array. We can think of a `DataFrame` as a matrix or a table, where the columns of this table are `Series` objects. This might make more sense with an example.\n",
    "\n",
    "### Examples with Pandas\n",
    "\n",
    "We will have a look at some more realistic exercises with Pandas here now. For us we will look at the classic Iris dataset, which looks at the petal dimensions for different Iris flowers. The data for this is stored in a CSV file, which is basically a spreadsheet where the columns are separated with a comma."
   ]
  },
  {
   "cell_type": "code",
   "execution_count": 19,
   "id": "8bab3492",
   "metadata": {},
   "outputs": [
    {
     "data": {
      "text/html": [
       "<div>\n",
       "<style scoped>\n",
       "    .dataframe tbody tr th:only-of-type {\n",
       "        vertical-align: middle;\n",
       "    }\n",
       "\n",
       "    .dataframe tbody tr th {\n",
       "        vertical-align: top;\n",
       "    }\n",
       "\n",
       "    .dataframe thead th {\n",
       "        text-align: right;\n",
       "    }\n",
       "</style>\n",
       "<table border=\"1\" class=\"dataframe\">\n",
       "  <thead>\n",
       "    <tr style=\"text-align: right;\">\n",
       "      <th></th>\n",
       "      <th>sepal_length</th>\n",
       "      <th>sepal_width</th>\n",
       "      <th>petal_length</th>\n",
       "      <th>petal_width</th>\n",
       "      <th>species</th>\n",
       "    </tr>\n",
       "  </thead>\n",
       "  <tbody>\n",
       "    <tr>\n",
       "      <th>0</th>\n",
       "      <td>5.1</td>\n",
       "      <td>3.5</td>\n",
       "      <td>1.4</td>\n",
       "      <td>0.2</td>\n",
       "      <td>setosa</td>\n",
       "    </tr>\n",
       "    <tr>\n",
       "      <th>1</th>\n",
       "      <td>4.9</td>\n",
       "      <td>3.0</td>\n",
       "      <td>1.4</td>\n",
       "      <td>0.2</td>\n",
       "      <td>setosa</td>\n",
       "    </tr>\n",
       "    <tr>\n",
       "      <th>2</th>\n",
       "      <td>4.7</td>\n",
       "      <td>3.2</td>\n",
       "      <td>1.3</td>\n",
       "      <td>0.2</td>\n",
       "      <td>setosa</td>\n",
       "    </tr>\n",
       "    <tr>\n",
       "      <th>3</th>\n",
       "      <td>4.6</td>\n",
       "      <td>3.1</td>\n",
       "      <td>1.5</td>\n",
       "      <td>0.2</td>\n",
       "      <td>setosa</td>\n",
       "    </tr>\n",
       "    <tr>\n",
       "      <th>4</th>\n",
       "      <td>5.0</td>\n",
       "      <td>3.6</td>\n",
       "      <td>1.4</td>\n",
       "      <td>0.2</td>\n",
       "      <td>setosa</td>\n",
       "    </tr>\n",
       "  </tbody>\n",
       "</table>\n",
       "</div>"
      ],
      "text/plain": [
       "   sepal_length  sepal_width  petal_length  petal_width species\n",
       "0           5.1          3.5           1.4          0.2  setosa\n",
       "1           4.9          3.0           1.4          0.2  setosa\n",
       "2           4.7          3.2           1.3          0.2  setosa\n",
       "3           4.6          3.1           1.5          0.2  setosa\n",
       "4           5.0          3.6           1.4          0.2  setosa"
      ]
     },
     "execution_count": 19,
     "metadata": {},
     "output_type": "execute_result"
    }
   ],
   "source": [
    "# import pandas\n",
    "import pandas as pd\n",
    "# load in the data from the csv file\n",
    "# here we are loading the data using a URL, but it could also be a path to a local\n",
    "# CSV file stored on our machine\n",
    "iris = pd.read_csv('https://raw.githubusercontent.com/mwaskom/seaborn-data/master/iris.csv')\n",
    "# lets get a quick summary of the data\n",
    "iris.head()\n"
   ]
  },
  {
   "cell_type": "markdown",
   "id": "1de1b0e0",
   "metadata": {},
   "source": [
    "Using the `.head()` method, we are able to get a nice printout of a summary of our dataset. From this we can see we have five columns, and an additional row index associated with each entry. The general consensus is when creating datasets in a CSV like format is,\n",
    "\n",
    "- Rows = Individual and independent samples \n",
    "- Columns = Features from each independent sample (or a `pd.Series`)\n",
    "\n",
    "So within this context, each row is a data point from a single flower, and the data in each column corresponds to the different features from each sample.\n",
    "\n",
    "Lets have a look at some ways to get some more information from our dataset. `head()` gives us a quick summary, but I probably want some more information, and it can be a bit clumsy when your dataset is much larger."
   ]
  },
  {
   "cell_type": "code",
   "execution_count": 20,
   "id": "5caa6906",
   "metadata": {},
   "outputs": [
    {
     "name": "stdout",
     "output_type": "stream",
     "text": [
      "(150, 5)\n"
     ]
    }
   ],
   "source": [
    "# lets get the shape of the dataframe\n",
    "print(iris.shape)"
   ]
  },
  {
   "cell_type": "markdown",
   "id": "d8f98122",
   "metadata": {},
   "source": [
    "So from this, we can see we have 150 samples with each sample having 5 features.\n",
    "\n",
    "Another thing that we might want to do is to extract column names from our dataframes."
   ]
  },
  {
   "cell_type": "code",
   "execution_count": 21,
   "id": "c6fad257",
   "metadata": {},
   "outputs": [
    {
     "name": "stdout",
     "output_type": "stream",
     "text": [
      "['sepal_length' 'sepal_width' 'petal_length' 'petal_width' 'species']\n"
     ]
    }
   ],
   "source": [
    "column_names = iris.columns.values\n",
    "print(column_names)"
   ]
  },
  {
   "cell_type": "markdown",
   "id": "1a9060ca",
   "metadata": {},
   "source": [
    "Now we know some of the column names, we can use them to access certain elements within our dataframe.\n",
    "\n",
    "A common way the Iris data set is used is to try and predict the `species` based on all the other features present. The general approach we would need to take (and is something we will do very frequently throughout this course) is to separate the data into a training and test split, and to extract the predictor variables (what we will use to fit our model), and our response model (what we will try and predict based on our predictor variables). \n",
    "\n",
    "Lets see how we can do this."
   ]
  },
  {
   "cell_type": "code",
   "execution_count": 22,
   "id": "0e87ce28",
   "metadata": {},
   "outputs": [],
   "source": [
    "# first lets try and split them into a training set and a testing set\n",
    "# we will say use 80% for training and 20% to test our pretend model\n",
    "\n",
    "# find the number of samples and save it into a variable\n",
    "# is the first index of the shape property\n",
    "num_samples = iris.shape[0] \n",
    "# now find 80% of that and round it\n",
    "# will also convert it to an integer as we will be using it for an index\n",
    "# in just a bit\n",
    "num_train = np.round(num_samples * 0.8).astype(np.int64)\n",
    "# now find how many we will use for testing\n",
    "num_test = num_samples - num_train\n",
    "# now lets use these to separate into an initial training and test set\n",
    "# where we will take the first 80% for training and the last 20% for test\n",
    "#\n",
    "# We can actually index a pandas Dataframe similar to a numpy array using\n",
    "# the iloc method\n",
    "initial_train = iris.iloc[0:num_train, :]\n",
    "# then get the last 20% for test\n",
    "# so will be from num_train to the end\n",
    "initial_test = iris.iloc[num_train::, :]\n"
   ]
  },
  {
   "cell_type": "markdown",
   "id": "4c1cd5af",
   "metadata": {},
   "source": [
    "Now we have created our initial training and test sets, we should inspect them to verify that they contain what we want. \n"
   ]
  },
  {
   "cell_type": "code",
   "execution_count": 23,
   "id": "93c0572e",
   "metadata": {},
   "outputs": [
    {
     "name": "stdout",
     "output_type": "stream",
     "text": [
      "train shape = (120, 5)\n",
      "test shape = (30, 5)\n"
     ]
    }
   ],
   "source": [
    "print(f'train shape = {initial_train.shape}')\n",
    "print(f'test shape = {initial_test.shape}')"
   ]
  },
  {
   "cell_type": "markdown",
   "id": "94cc2386",
   "metadata": {},
   "source": [
    "That looks good, but lets get some statistics of our train and test split. We want to make sure that the distribution of samples within our training set is similar to that of our testing set. So what we will do is maybe plot a histogram of all the different petal/sepal properties. "
   ]
  },
  {
   "cell_type": "code",
   "execution_count": 24,
   "id": "4192f009",
   "metadata": {},
   "outputs": [
    {
     "data": {
      "text/plain": [
       "Text(0.5, 1.0, 'Testing Data')"
      ]
     },
     "execution_count": 24,
     "metadata": {},
     "output_type": "execute_result"
    },
    {
     "data": {
      "image/png": "[encoded data removed]",
      "text/plain": [
       "<Figure size 864x432 with 2 Axes>"
      ]
     },
     "metadata": {
      "needs_background": "light"
     },
     "output_type": "display_data"
    }
   ],
   "source": [
    "\n",
    "# create a figure with two subplots\n",
    "fig, (ax1, ax2) = plt.subplots(1, 2, figsize=(12, 6))  \n",
    "# plot the boxplot for the training data in the first subplot\n",
    "initial_train.boxplot(ax=ax1)\n",
    "# set the title\n",
    "ax1.set_title('Training Data')\n",
    "# same thing for the testing data\n",
    "initial_test.boxplot(ax=ax2)\n",
    "ax2.set_title('Testing Data')\n"
   ]
  },
  {
   "cell_type": "markdown",
   "id": "81da8557",
   "metadata": {},
   "source": [
    "They look kind of similar, mainly the petal length looks different to me which makes me think something might be up. To get more fine grained info, I can create boxplots per different flower species."
   ]
  },
  {
   "cell_type": "code",
   "execution_count": 25,
   "id": "7b8b8e6f",
   "metadata": {},
   "outputs": [
    {
     "data": {
      "text/plain": [
       "array([[<AxesSubplot:title={'center':'petal_length'}, xlabel='[species]'>,\n",
       "        <AxesSubplot:title={'center':'petal_width'}, xlabel='[species]'>],\n",
       "       [<AxesSubplot:title={'center':'sepal_length'}, xlabel='[species]'>,\n",
       "        <AxesSubplot:title={'center':'sepal_width'}, xlabel='[species]'>]],\n",
       "      dtype=object)"
      ]
     },
     "execution_count": 25,
     "metadata": {},
     "output_type": "execute_result"
    },
    {
     "data": {
      "image/png": "[encoded data removed]",
      "text/plain": [
       "<Figure size 432x288 with 4 Axes>"
      ]
     },
     "metadata": {
      "needs_background": "light"
     },
     "output_type": "display_data"
    },
    {
     "data": {
      "image/png": "[encoded data removed]",
      "text/plain": [
       "<Figure size 432x288 with 4 Axes>"
      ]
     },
     "metadata": {
      "needs_background": "light"
     },
     "output_type": "display_data"
    }
   ],
   "source": [
    "# plot the boxplot for the training data in the first subplot\n",
    "# and group by the species\n",
    "#\n",
    "# not going to bother trying the make them subplots here.\n",
    "# It can be done, and maybe for people who are keen you could play\n",
    "# around with it :)\n",
    "initial_train.boxplot(by='species')\n",
    "# same thing for the testing data\n",
    "initial_test.boxplot(by='species')"
   ]
  },
  {
   "cell_type": "markdown",
   "id": "d9d41cb0",
   "metadata": {},
   "source": [
    "This highlights the issue; in our training set we have three species, yet in our testing set we only have one. What gives?\n",
    "\n",
    "We can confirm this by getting the unique values of a column. "
   ]
  },
  {
   "cell_type": "code",
   "execution_count": 26,
   "id": "8afe64a1",
   "metadata": {},
   "outputs": [
    {
     "name": "stdout",
     "output_type": "stream",
     "text": [
      "Unique species in train = ['setosa' 'versicolor' 'virginica']\n",
      "Unique species in test = ['virginica']\n"
     ]
    }
   ],
   "source": [
    "# we can access an individual column within our dataframe\n",
    "# by using the dot notation, as long as the column name\n",
    "# doesn't have a space in it\n",
    "print(f'Unique species in train = {initial_train.species.unique()}')\n",
    "print(f'Unique species in test = {initial_test.species.unique()}')\n",
    "\n",
    "# if the column name did have a space, we can still access it like a python dictionary \n",
    "# print(f'Unique species in train = {initial_train['species'].unique()}')"
   ]
  },
  {
   "cell_type": "markdown",
   "id": "a63a27a3",
   "metadata": {},
   "source": [
    "This confirms it, our testing set only has one species in it. This means we wouldn't be able to evaluate the performance of any proposed model on anything other than the virginica flower. More than that, it probably wouldn't be any good at it, as since the testing set has all virginica samples,the training set probably has very few.\n",
    "\n",
    "We can verify this with some histograms."
   ]
  },
  {
   "cell_type": "code",
   "execution_count": 27,
   "id": "d4cdb29b",
   "metadata": {},
   "outputs": [
    {
     "data": {
      "text/plain": [
       "Text(0.5, 1.0, 'Testing Data')"
      ]
     },
     "execution_count": 27,
     "metadata": {},
     "output_type": "execute_result"
    },
    {
     "data": {
      "image/png": "[encoded data removed]",
      "text/plain": [
       "<Figure size 864x432 with 2 Axes>"
      ]
     },
     "metadata": {
      "needs_background": "light"
     },
     "output_type": "display_data"
    }
   ],
   "source": [
    "# lets create histograms of just the number of different examples in each dataframe\n",
    "#\n",
    "# Again, copying a lot of the plotting code used above\n",
    "# \n",
    "# create a figure with two subplots\n",
    "fig, (ax1, ax2) = plt.subplots(1, 2, figsize=(12, 6))  \n",
    "# plot histogram of just the species column/series \n",
    "initial_train.species.hist(ax=ax1)\n",
    "# set the title\n",
    "ax1.set_title('Training Data')\n",
    "# same thing for the testing data\n",
    "initial_test.species.hist(ax=ax2)\n",
    "ax2.set_title('Testing Data')\n"
   ]
  },
  {
   "cell_type": "markdown",
   "id": "92c30fbf",
   "metadata": {},
   "source": [
    "This further illustrates the extent of the problem. Whilst we confirmed the problem a little while ago, it is good to show you how to investigate these things and how the tools can be used.\n",
    "\n",
    "We now need to consider what might of caused the problem. Why does our testing set contain only one species of flower?\n",
    "\n",
    "As you might of guessed, it is due to the way we created our artificial training and testing splits. We took the top 80% for training and the remainder for test. The samples within the original data set aren't random, they are ordered by species. First 50 is setosa, 50-100 is versicolor, and virginica is the rest. We want our training and testing splits to have similar distributions, so we need to be a little more clever about how we separate them. To do this, we can use the \n",
    "`train_test_split` method from Scikit-Learn. To encourage the training and testing splits to have similar distributions with respect to the species, we can  use the `stratify` option to force the split to match the distribution of species accordingly."
   ]
  },
  {
   "cell_type": "code",
   "execution_count": 28,
   "id": "efcc3cd2",
   "metadata": {},
   "outputs": [],
   "source": [
    "from sklearn.model_selection import train_test_split\n",
    "\n",
    "train_df, test_df = train_test_split(iris,\n",
    "                                     test_size=num_test, # number of testing points\n",
    "                                     shuffle=True, # shuffle it about\n",
    "                                     stratify=iris.species) # make sure distribution of species are balanced"
   ]
  },
  {
   "cell_type": "code",
   "execution_count": 29,
   "id": "104373ca",
   "metadata": {},
   "outputs": [
    {
     "data": {
      "text/plain": [
       "Text(0.5, 1.0, 'Testing Data')"
      ]
     },
     "execution_count": 29,
     "metadata": {},
     "output_type": "execute_result"
    },
    {
     "data": {
      "image/png": "[encoded data removed]",
      "text/plain": [
       "<Figure size 864x432 with 2 Axes>"
      ]
     },
     "metadata": {
      "needs_background": "light"
     },
     "output_type": "display_data"
    }
   ],
   "source": [
    "# lets plot it again\n",
    "# Again, copying a lot of the plotting code used above\n",
    "# \n",
    "# create a figure with two subplots\n",
    "fig, (ax1, ax2) = plt.subplots(1, 2, figsize=(12, 6))  \n",
    "# plot histogram of just the species column/series \n",
    "train_df.species.hist(ax=ax1)\n",
    "# set the title\n",
    "ax1.set_title('Training Data')\n",
    "# same thing for the testing data\n",
    "test_df.species.hist(ax=ax2)\n",
    "ax2.set_title('Testing Data')\n",
    "\n"
   ]
  },
  {
   "cell_type": "markdown",
   "id": "38f0d2b7",
   "metadata": {},
   "source": [
    "And there we have it, our training dataframe and our testing dataframe look really well balanced and sensible, and not biased towards any species of iris flower.\n",
    "\n",
    "### Extracting data from Dataframes\n",
    "\n",
    "We have our nice data splits in the training and testing dataframes, but they contain both the predictor and the response variables. We often want to separate these, and to also have them just as raw data so we can do some math on them. This means we also probably want to have our species represented by an integer category instead of a string.\n",
    "\n",
    "Lets see one way we can do both of these things."
   ]
  },
  {
   "cell_type": "code",
   "execution_count": 30,
   "id": "84013bfe",
   "metadata": {},
   "outputs": [
    {
     "name": "stdout",
     "output_type": "stream",
     "text": [
      "     sepal_length  sepal_width  petal_length  petal_width  species\n",
      "60            5.0          2.0           3.5          1.0        1\n",
      "49            5.0          3.3           1.4          0.2        0\n",
      "46            5.1          3.8           1.6          0.2        0\n",
      "142           5.8          2.7           5.1          1.9        2\n",
      "16            5.4          3.9           1.3          0.4        0\n",
      "     sepal_length  sepal_width  petal_length  petal_width  species\n",
      "4             5.0          3.6           1.4          0.2        0\n",
      "96            5.7          2.9           4.2          1.3        1\n",
      "94            5.6          2.7           4.2          1.3        1\n",
      "88            5.6          3.0           4.1          1.3        1\n",
      "146           6.3          2.5           5.0          1.9        2\n"
     ]
    }
   ],
   "source": [
    "# lets create a dictionary that maps from a species to an integer\n",
    "species_dict = {'setosa':0,\n",
    "                'versicolor':1,\n",
    "                'virginica':2}\n",
    "\n",
    "# now lets create a function that we can apply to our dataframes to convert the species\n",
    "# string to the corresponding integer\n",
    "# the function we are making will only need to work on a single row of our dataframe,\n",
    "# as we will be using the pandas `apply` method to apply it to every row efficiently\n",
    "\n",
    "def species_to_int(row):\n",
    "    # replace the row species string with the integer\n",
    "    row.species = species_dict[row.species]\n",
    "    # now return the row\n",
    "    return row\n",
    "\n",
    "# now apply this function, with axis specified to one so that it\n",
    "# will apply the function to every row\n",
    "train_df_cat = train_df.apply(species_to_int, axis=1)\n",
    "test_df_cat = test_df.apply(species_to_int, axis=1)\n",
    "\n",
    "print(train_df_cat.head())\n",
    "print(test_df_cat.head())"
   ]
  },
  {
   "cell_type": "markdown",
   "id": "29079e67",
   "metadata": {},
   "source": [
    "Looking good. Now we want to separate the predictor and the response variables. We can use the `loc[]` method to do this, which allows us to index with a mixture of integer indicies and column names."
   ]
  },
  {
   "cell_type": "code",
   "execution_count": 31,
   "id": "7a7be795",
   "metadata": {},
   "outputs": [
    {
     "name": "stdout",
     "output_type": "stream",
     "text": [
      "[[5.  3.6 1.4 0.2]\n",
      " [5.7 2.9 4.2 1.3]\n",
      " [5.6 2.7 4.2 1.3]\n",
      " [5.6 3.  4.1 1.3]\n",
      " [6.3 2.5 5.  1.9]\n",
      " [6.  2.2 5.  1.5]\n",
      " [4.9 3.1 1.5 0.1]\n",
      " [6.9 3.1 5.1 2.3]\n",
      " [5.4 3.  4.5 1.5]\n",
      " [6.1 2.8 4.7 1.2]\n",
      " [5.8 2.8 5.1 2.4]\n",
      " [6.9 3.2 5.7 2.3]\n",
      " [5.1 3.5 1.4 0.2]\n",
      " [5.  3.4 1.5 0.2]\n",
      " [4.6 3.2 1.4 0.2]\n",
      " [6.3 2.9 5.6 1.8]\n",
      " [6.4 3.2 4.5 1.5]\n",
      " [7.9 3.8 6.4 2. ]\n",
      " [5.9 3.  5.1 1.8]\n",
      " [5.1 3.3 1.7 0.5]\n",
      " [5.2 2.7 3.9 1.4]\n",
      " [5.8 2.7 3.9 1.2]\n",
      " [5.1 3.7 1.5 0.4]\n",
      " [6.3 3.4 5.6 2.4]\n",
      " [5.7 3.8 1.7 0.3]\n",
      " [5.5 2.3 4.  1.3]\n",
      " [6.4 2.7 5.3 1.9]\n",
      " [4.8 3.1 1.6 0.2]\n",
      " [5.1 3.8 1.5 0.3]\n",
      " [6.  3.4 4.5 1.6]]\n",
      "[0 1 1 1 2 2 0 2 1 1 2 2 0 0 0 2 1 2 2 0 1 1 0 2 0 1 2 0 0 1]\n"
     ]
    }
   ],
   "source": [
    "# predictor variables is everything except the species column\n",
    "train_x = train_df_cat.loc[:, train_df_cat.columns!='species']\n",
    "test_x = test_df_cat.loc[:, test_df_cat.columns!='species']\n",
    "# now get the response variables, which is just the species column\n",
    "train_y = train_df_cat.species\n",
    "test_y = test_df_cat.species\n",
    "\n",
    "# now we also want to convert them to numpy arrays\n",
    "train_x = train_x.to_numpy()\n",
    "test_x = test_x.to_numpy()\n",
    "train_y = train_y.to_numpy()\n",
    "test_y = test_y.to_numpy()\n",
    "\n",
    "# now lets print them to have a look\n",
    "print(test_x)\n",
    "print(test_y)\n"
   ]
  },
  {
   "cell_type": "markdown",
   "id": "81035660",
   "metadata": {},
   "source": [
    "Success, we have our data separated into arrays and separated into individual arrays :) suitable for fitting a machine learning model. We won't actually fit any models here, we will do that plenty in class, this is just an example of how to do it with Pandas which will hopefully prove useful.\n",
    "\n",
    "### Some other ways we can manipulate Dataframes\n",
    "\n",
    "When working with real data sets, it is almost always a guarentee that you will need to manipulate it, format it, pre process it, extract it, clean it, or a combination of everything. We have already seen some examples of that in the previous section, like us creating an artificial train and test split or converting the species strings into categorical integers. Pandas provides a nice way for us to do a lot of this, and we will go through some additional operations that you will likely want/need to use at some point. \n",
    "\n",
    "#### Filtering Data\n",
    "\n",
    "Say we are only interested in certain data points within a data set. Say here we are only interested in samples from the `setosa` species of flower. We can filter our dataset to extract just this data using some of the Pandas operations we used before in slightly different ways."
   ]
  },
  {
   "cell_type": "code",
   "execution_count": 32,
   "id": "c9890e47",
   "metadata": {},
   "outputs": [
    {
     "name": "stdout",
     "output_type": "stream",
     "text": [
      "(50, 5)\n",
      "['setosa']\n"
     ]
    },
    {
     "data": {
      "text/html": [
       "<div>\n",
       "<style scoped>\n",
       "    .dataframe tbody tr th:only-of-type {\n",
       "        vertical-align: middle;\n",
       "    }\n",
       "\n",
       "    .dataframe tbody tr th {\n",
       "        vertical-align: top;\n",
       "    }\n",
       "\n",
       "    .dataframe thead th {\n",
       "        text-align: right;\n",
       "    }\n",
       "</style>\n",
       "<table border=\"1\" class=\"dataframe\">\n",
       "  <thead>\n",
       "    <tr style=\"text-align: right;\">\n",
       "      <th></th>\n",
       "      <th>sepal_length</th>\n",
       "      <th>sepal_width</th>\n",
       "      <th>petal_length</th>\n",
       "      <th>petal_width</th>\n",
       "      <th>species</th>\n",
       "    </tr>\n",
       "  </thead>\n",
       "  <tbody>\n",
       "    <tr>\n",
       "      <th>0</th>\n",
       "      <td>5.1</td>\n",
       "      <td>3.5</td>\n",
       "      <td>1.4</td>\n",
       "      <td>0.2</td>\n",
       "      <td>setosa</td>\n",
       "    </tr>\n",
       "    <tr>\n",
       "      <th>1</th>\n",
       "      <td>4.9</td>\n",
       "      <td>3.0</td>\n",
       "      <td>1.4</td>\n",
       "      <td>0.2</td>\n",
       "      <td>setosa</td>\n",
       "    </tr>\n",
       "    <tr>\n",
       "      <th>2</th>\n",
       "      <td>4.7</td>\n",
       "      <td>3.2</td>\n",
       "      <td>1.3</td>\n",
       "      <td>0.2</td>\n",
       "      <td>setosa</td>\n",
       "    </tr>\n",
       "    <tr>\n",
       "      <th>3</th>\n",
       "      <td>4.6</td>\n",
       "      <td>3.1</td>\n",
       "      <td>1.5</td>\n",
       "      <td>0.2</td>\n",
       "      <td>setosa</td>\n",
       "    </tr>\n",
       "    <tr>\n",
       "      <th>4</th>\n",
       "      <td>5.0</td>\n",
       "      <td>3.6</td>\n",
       "      <td>1.4</td>\n",
       "      <td>0.2</td>\n",
       "      <td>setosa</td>\n",
       "    </tr>\n",
       "  </tbody>\n",
       "</table>\n",
       "</div>"
      ],
      "text/plain": [
       "   sepal_length  sepal_width  petal_length  petal_width species\n",
       "0           5.1          3.5           1.4          0.2  setosa\n",
       "1           4.9          3.0           1.4          0.2  setosa\n",
       "2           4.7          3.2           1.3          0.2  setosa\n",
       "3           4.6          3.1           1.5          0.2  setosa\n",
       "4           5.0          3.6           1.4          0.2  setosa"
      ]
     },
     "execution_count": 32,
     "metadata": {},
     "output_type": "execute_result"
    }
   ],
   "source": [
    "# indexing the original data frame to give me just the setosa samples\n",
    "setosa = iris[iris.species == 'setosa']\n",
    "# checking the shape of this \n",
    "print(setosa.shape)\n",
    "# checking to make sure only have the setosa species\n",
    "print(setosa.species.unique())\n",
    "setosa.head()"
   ]
  },
  {
   "cell_type": "markdown",
   "id": "a2a47e52",
   "metadata": {},
   "source": [
    "That looks like it worked to me. Lets have a look at a different filtering method, where we only want samples with a sepal width >= 3.6"
   ]
  },
  {
   "cell_type": "code",
   "execution_count": 33,
   "id": "2cf9f51d",
   "metadata": {},
   "outputs": [
    {
     "data": {
      "text/html": [
       "<div>\n",
       "<style scoped>\n",
       "    .dataframe tbody tr th:only-of-type {\n",
       "        vertical-align: middle;\n",
       "    }\n",
       "\n",
       "    .dataframe tbody tr th {\n",
       "        vertical-align: top;\n",
       "    }\n",
       "\n",
       "    .dataframe thead th {\n",
       "        text-align: right;\n",
       "    }\n",
       "</style>\n",
       "<table border=\"1\" class=\"dataframe\">\n",
       "  <thead>\n",
       "    <tr style=\"text-align: right;\">\n",
       "      <th></th>\n",
       "      <th>sepal_length</th>\n",
       "      <th>sepal_width</th>\n",
       "      <th>petal_length</th>\n",
       "      <th>petal_width</th>\n",
       "      <th>species</th>\n",
       "    </tr>\n",
       "  </thead>\n",
       "  <tbody>\n",
       "    <tr>\n",
       "      <th>4</th>\n",
       "      <td>5.0</td>\n",
       "      <td>3.6</td>\n",
       "      <td>1.4</td>\n",
       "      <td>0.2</td>\n",
       "      <td>setosa</td>\n",
       "    </tr>\n",
       "    <tr>\n",
       "      <th>5</th>\n",
       "      <td>5.4</td>\n",
       "      <td>3.9</td>\n",
       "      <td>1.7</td>\n",
       "      <td>0.4</td>\n",
       "      <td>setosa</td>\n",
       "    </tr>\n",
       "    <tr>\n",
       "      <th>10</th>\n",
       "      <td>5.4</td>\n",
       "      <td>3.7</td>\n",
       "      <td>1.5</td>\n",
       "      <td>0.2</td>\n",
       "      <td>setosa</td>\n",
       "    </tr>\n",
       "    <tr>\n",
       "      <th>14</th>\n",
       "      <td>5.8</td>\n",
       "      <td>4.0</td>\n",
       "      <td>1.2</td>\n",
       "      <td>0.2</td>\n",
       "      <td>setosa</td>\n",
       "    </tr>\n",
       "    <tr>\n",
       "      <th>15</th>\n",
       "      <td>5.7</td>\n",
       "      <td>4.4</td>\n",
       "      <td>1.5</td>\n",
       "      <td>0.4</td>\n",
       "      <td>setosa</td>\n",
       "    </tr>\n",
       "  </tbody>\n",
       "</table>\n",
       "</div>"
      ],
      "text/plain": [
       "    sepal_length  sepal_width  petal_length  petal_width species\n",
       "4            5.0          3.6           1.4          0.2  setosa\n",
       "5            5.4          3.9           1.7          0.4  setosa\n",
       "10           5.4          3.7           1.5          0.2  setosa\n",
       "14           5.8          4.0           1.2          0.2  setosa\n",
       "15           5.7          4.4           1.5          0.4  setosa"
      ]
     },
     "execution_count": 33,
     "metadata": {},
     "output_type": "execute_result"
    }
   ],
   "source": [
    "sepal_width_3_6 = iris[iris.sepal_width >= 3.6]\n",
    "sepal_width_3_6.head()"
   ]
  },
  {
   "cell_type": "code",
   "execution_count": 34,
   "id": "dc9b5fac",
   "metadata": {},
   "outputs": [
    {
     "name": "stdout",
     "output_type": "stream",
     "text": [
      "4.4\n",
      "3.83157894736842\n",
      "3.6\n"
     ]
    }
   ],
   "source": [
    "# can get stats of a column from pandas dataframes as well\n",
    "print(sepal_width_3_6.sepal_width.max())\n",
    "print(sepal_width_3_6.sepal_width.mean())\n",
    "print(sepal_width_3_6.sepal_width.min())"
   ]
  },
  {
   "cell_type": "markdown",
   "id": "dddafdd3",
   "metadata": {},
   "source": [
    "Another super common type of filtering is based on dates. To see this in action we will need another data set. For this we will use some finance data I found online."
   ]
  },
  {
   "cell_type": "code",
   "execution_count": 35,
   "id": "0be63dfc",
   "metadata": {},
   "outputs": [
    {
     "data": {
      "text/html": [
       "<div>\n",
       "<style scoped>\n",
       "    .dataframe tbody tr th:only-of-type {\n",
       "        vertical-align: middle;\n",
       "    }\n",
       "\n",
       "    .dataframe tbody tr th {\n",
       "        vertical-align: top;\n",
       "    }\n",
       "\n",
       "    .dataframe thead th {\n",
       "        text-align: right;\n",
       "    }\n",
       "</style>\n",
       "<table border=\"1\" class=\"dataframe\">\n",
       "  <thead>\n",
       "    <tr style=\"text-align: right;\">\n",
       "      <th></th>\n",
       "      <th>Date</th>\n",
       "      <th>Open</th>\n",
       "      <th>High</th>\n",
       "      <th>Low</th>\n",
       "      <th>Close</th>\n",
       "      <th>Adj Close</th>\n",
       "      <th>Volume</th>\n",
       "    </tr>\n",
       "  </thead>\n",
       "  <tbody>\n",
       "    <tr>\n",
       "      <th>0</th>\n",
       "      <td>2020-02-27</td>\n",
       "      <td>68.102997</td>\n",
       "      <td>68.585197</td>\n",
       "      <td>65.858498</td>\n",
       "      <td>65.904503</td>\n",
       "      <td>65.904503</td>\n",
       "      <td>59566000</td>\n",
       "    </tr>\n",
       "    <tr>\n",
       "      <th>1</th>\n",
       "      <td>2020-02-28</td>\n",
       "      <td>63.875000</td>\n",
       "      <td>67.056999</td>\n",
       "      <td>63.549999</td>\n",
       "      <td>66.966499</td>\n",
       "      <td>66.966499</td>\n",
       "      <td>75782000</td>\n",
       "    </tr>\n",
       "    <tr>\n",
       "      <th>2</th>\n",
       "      <td>2020-03-02</td>\n",
       "      <td>67.580498</td>\n",
       "      <td>69.543503</td>\n",
       "      <td>66.340752</td>\n",
       "      <td>69.455498</td>\n",
       "      <td>69.455498</td>\n",
       "      <td>48630000</td>\n",
       "    </tr>\n",
       "    <tr>\n",
       "      <th>3</th>\n",
       "      <td>2020-03-03</td>\n",
       "      <td>69.971001</td>\n",
       "      <td>70.507500</td>\n",
       "      <td>66.599998</td>\n",
       "      <td>67.069504</td>\n",
       "      <td>67.069504</td>\n",
       "      <td>48046000</td>\n",
       "    </tr>\n",
       "    <tr>\n",
       "      <th>4</th>\n",
       "      <td>2020-03-04</td>\n",
       "      <td>67.961502</td>\n",
       "      <td>69.404503</td>\n",
       "      <td>67.155502</td>\n",
       "      <td>69.325996</td>\n",
       "      <td>69.325996</td>\n",
       "      <td>38266000</td>\n",
       "    </tr>\n",
       "  </tbody>\n",
       "</table>\n",
       "</div>"
      ],
      "text/plain": [
       "         Date       Open       High        Low      Close  Adj Close    Volume\n",
       "0  2020-02-27  68.102997  68.585197  65.858498  65.904503  65.904503  59566000\n",
       "1  2020-02-28  63.875000  67.056999  63.549999  66.966499  66.966499  75782000\n",
       "2  2020-03-02  67.580498  69.543503  66.340752  69.455498  69.455498  48630000\n",
       "3  2020-03-03  69.971001  70.507500  66.599998  67.069504  67.069504  48046000\n",
       "4  2020-03-04  67.961502  69.404503  67.155502  69.325996  69.325996  38266000"
      ]
     },
     "execution_count": 35,
     "metadata": {},
     "output_type": "execute_result"
    }
   ],
   "source": [
    "finance = pd.read_csv(\"https://query1.finance.yahoo.com/v7/finance/download/GOOG?period1=1582781719&period2=1614404119&interval=1d&events=history&includeAdjustedClose=true\")\n",
    "finance.head()\n"
   ]
  },
  {
   "cell_type": "code",
   "execution_count": 36,
   "id": "f34b80b0",
   "metadata": {},
   "outputs": [
    {
     "name": "stdout",
     "output_type": "stream",
     "text": [
      "2021-02-26\n",
      "2020-02-27\n"
     ]
    }
   ],
   "source": [
    "# lets see the ranges of the dates\n",
    "print(finance.Date.max())\n",
    "print(finance.Date.min())\n"
   ]
  },
  {
   "cell_type": "markdown",
   "id": "d1bd9256",
   "metadata": {},
   "source": [
    "So we can see this data spans from Feb 2020-Feb 2021. Lets say we only want the data from 2021. To make this more robust, we should first make sure the data types for the Date column is registered as a date."
   ]
  },
  {
   "cell_type": "code",
   "execution_count": 37,
   "id": "8db0e53f",
   "metadata": {},
   "outputs": [
    {
     "name": "stdout",
     "output_type": "stream",
     "text": [
      "Date          object\n",
      "Open         float64\n",
      "High         float64\n",
      "Low          float64\n",
      "Close        float64\n",
      "Adj Close    float64\n",
      "Volume         int64\n",
      "dtype: object\n"
     ]
    }
   ],
   "source": [
    "print(finance.dtypes)\n"
   ]
  },
  {
   "cell_type": "markdown",
   "id": "1766e23e",
   "metadata": {},
   "source": [
    "This is showing the date column as an object type, but I want it to be explicitly refered to as a datetime type within pandas. I can convert it like this. "
   ]
  },
  {
   "cell_type": "code",
   "execution_count": 38,
   "id": "dec9bbe4",
   "metadata": {},
   "outputs": [
    {
     "name": "stdout",
     "output_type": "stream",
     "text": [
      "Date         datetime64[ns]\n",
      "Open                float64\n",
      "High                float64\n",
      "Low                 float64\n",
      "Close               float64\n",
      "Adj Close           float64\n",
      "Volume                int64\n",
      "dtype: object\n"
     ]
    },
    {
     "data": {
      "text/html": [
       "<div>\n",
       "<style scoped>\n",
       "    .dataframe tbody tr th:only-of-type {\n",
       "        vertical-align: middle;\n",
       "    }\n",
       "\n",
       "    .dataframe tbody tr th {\n",
       "        vertical-align: top;\n",
       "    }\n",
       "\n",
       "    .dataframe thead th {\n",
       "        text-align: right;\n",
       "    }\n",
       "</style>\n",
       "<table border=\"1\" class=\"dataframe\">\n",
       "  <thead>\n",
       "    <tr style=\"text-align: right;\">\n",
       "      <th></th>\n",
       "      <th>Date</th>\n",
       "      <th>Open</th>\n",
       "      <th>High</th>\n",
       "      <th>Low</th>\n",
       "      <th>Close</th>\n",
       "      <th>Adj Close</th>\n",
       "      <th>Volume</th>\n",
       "    </tr>\n",
       "  </thead>\n",
       "  <tbody>\n",
       "    <tr>\n",
       "      <th>0</th>\n",
       "      <td>2020-02-27</td>\n",
       "      <td>68.102997</td>\n",
       "      <td>68.585197</td>\n",
       "      <td>65.858498</td>\n",
       "      <td>65.904503</td>\n",
       "      <td>65.904503</td>\n",
       "      <td>59566000</td>\n",
       "    </tr>\n",
       "    <tr>\n",
       "      <th>1</th>\n",
       "      <td>2020-02-28</td>\n",
       "      <td>63.875000</td>\n",
       "      <td>67.056999</td>\n",
       "      <td>63.549999</td>\n",
       "      <td>66.966499</td>\n",
       "      <td>66.966499</td>\n",
       "      <td>75782000</td>\n",
       "    </tr>\n",
       "    <tr>\n",
       "      <th>2</th>\n",
       "      <td>2020-03-02</td>\n",
       "      <td>67.580498</td>\n",
       "      <td>69.543503</td>\n",
       "      <td>66.340752</td>\n",
       "      <td>69.455498</td>\n",
       "      <td>69.455498</td>\n",
       "      <td>48630000</td>\n",
       "    </tr>\n",
       "    <tr>\n",
       "      <th>3</th>\n",
       "      <td>2020-03-03</td>\n",
       "      <td>69.971001</td>\n",
       "      <td>70.507500</td>\n",
       "      <td>66.599998</td>\n",
       "      <td>67.069504</td>\n",
       "      <td>67.069504</td>\n",
       "      <td>48046000</td>\n",
       "    </tr>\n",
       "    <tr>\n",
       "      <th>4</th>\n",
       "      <td>2020-03-04</td>\n",
       "      <td>67.961502</td>\n",
       "      <td>69.404503</td>\n",
       "      <td>67.155502</td>\n",
       "      <td>69.325996</td>\n",
       "      <td>69.325996</td>\n",
       "      <td>38266000</td>\n",
       "    </tr>\n",
       "  </tbody>\n",
       "</table>\n",
       "</div>"
      ],
      "text/plain": [
       "        Date       Open       High        Low      Close  Adj Close    Volume\n",
       "0 2020-02-27  68.102997  68.585197  65.858498  65.904503  65.904503  59566000\n",
       "1 2020-02-28  63.875000  67.056999  63.549999  66.966499  66.966499  75782000\n",
       "2 2020-03-02  67.580498  69.543503  66.340752  69.455498  69.455498  48630000\n",
       "3 2020-03-03  69.971001  70.507500  66.599998  67.069504  67.069504  48046000\n",
       "4 2020-03-04  67.961502  69.404503  67.155502  69.325996  69.325996  38266000"
      ]
     },
     "execution_count": 38,
     "metadata": {},
     "output_type": "execute_result"
    }
   ],
   "source": [
    "finance.Date = finance.Date.astype('datetime64')\n",
    "print(finance.dtypes)\n",
    "finance.head()"
   ]
  },
  {
   "cell_type": "markdown",
   "id": "6bef7e76",
   "metadata": {},
   "source": [
    "Now it is definitely in a valid datetime format, we can index it based on logical operators. Lets extract the 2021 data now."
   ]
  },
  {
   "cell_type": "code",
   "execution_count": 39,
   "id": "12ceda35",
   "metadata": {},
   "outputs": [
    {
     "data": {
      "text/html": [
       "<div>\n",
       "<style scoped>\n",
       "    .dataframe tbody tr th:only-of-type {\n",
       "        vertical-align: middle;\n",
       "    }\n",
       "\n",
       "    .dataframe tbody tr th {\n",
       "        vertical-align: top;\n",
       "    }\n",
       "\n",
       "    .dataframe thead th {\n",
       "        text-align: right;\n",
       "    }\n",
       "</style>\n",
       "<table border=\"1\" class=\"dataframe\">\n",
       "  <thead>\n",
       "    <tr style=\"text-align: right;\">\n",
       "      <th></th>\n",
       "      <th>Date</th>\n",
       "      <th>Open</th>\n",
       "      <th>High</th>\n",
       "      <th>Low</th>\n",
       "      <th>Close</th>\n",
       "      <th>Adj Close</th>\n",
       "      <th>Volume</th>\n",
       "    </tr>\n",
       "  </thead>\n",
       "  <tbody>\n",
       "    <tr>\n",
       "      <th>215</th>\n",
       "      <td>2021-01-04</td>\n",
       "      <td>87.876999</td>\n",
       "      <td>88.032501</td>\n",
       "      <td>85.392502</td>\n",
       "      <td>86.412003</td>\n",
       "      <td>86.412003</td>\n",
       "      <td>38038000</td>\n",
       "    </tr>\n",
       "    <tr>\n",
       "      <th>216</th>\n",
       "      <td>2021-01-05</td>\n",
       "      <td>86.250000</td>\n",
       "      <td>87.383499</td>\n",
       "      <td>85.900749</td>\n",
       "      <td>87.045998</td>\n",
       "      <td>87.045998</td>\n",
       "      <td>22906000</td>\n",
       "    </tr>\n",
       "    <tr>\n",
       "      <th>217</th>\n",
       "      <td>2021-01-06</td>\n",
       "      <td>85.131500</td>\n",
       "      <td>87.400002</td>\n",
       "      <td>84.949997</td>\n",
       "      <td>86.764503</td>\n",
       "      <td>86.764503</td>\n",
       "      <td>52042000</td>\n",
       "    </tr>\n",
       "    <tr>\n",
       "      <th>218</th>\n",
       "      <td>2021-01-07</td>\n",
       "      <td>87.002998</td>\n",
       "      <td>89.419998</td>\n",
       "      <td>86.852501</td>\n",
       "      <td>89.362503</td>\n",
       "      <td>89.362503</td>\n",
       "      <td>45300000</td>\n",
       "    </tr>\n",
       "    <tr>\n",
       "      <th>219</th>\n",
       "      <td>2021-01-08</td>\n",
       "      <td>89.399002</td>\n",
       "      <td>90.491997</td>\n",
       "      <td>88.676750</td>\n",
       "      <td>90.360497</td>\n",
       "      <td>90.360497</td>\n",
       "      <td>41012000</td>\n",
       "    </tr>\n",
       "  </tbody>\n",
       "</table>\n",
       "</div>"
      ],
      "text/plain": [
       "          Date       Open       High        Low      Close  Adj Close  \\\n",
       "215 2021-01-04  87.876999  88.032501  85.392502  86.412003  86.412003   \n",
       "216 2021-01-05  86.250000  87.383499  85.900749  87.045998  87.045998   \n",
       "217 2021-01-06  85.131500  87.400002  84.949997  86.764503  86.764503   \n",
       "218 2021-01-07  87.002998  89.419998  86.852501  89.362503  89.362503   \n",
       "219 2021-01-08  89.399002  90.491997  88.676750  90.360497  90.360497   \n",
       "\n",
       "       Volume  \n",
       "215  38038000  \n",
       "216  22906000  \n",
       "217  52042000  \n",
       "218  45300000  \n",
       "219  41012000  "
      ]
     },
     "execution_count": 39,
     "metadata": {},
     "output_type": "execute_result"
    }
   ],
   "source": [
    "finance_2021 = finance[finance.Date >= '2021-01-01']\n",
    "finance_2021.head()"
   ]
  },
  {
   "cell_type": "markdown",
   "id": "d7f93308",
   "metadata": {},
   "source": [
    "Looks like it worked. Lets maybe get just the dates for the second half of 2020.\n"
   ]
  },
  {
   "cell_type": "code",
   "execution_count": 40,
   "id": "bc1b003e",
   "metadata": {},
   "outputs": [
    {
     "name": "stdout",
     "output_type": "stream",
     "text": [
      "2020-07-01 00:00:00\n",
      "2020-12-31 00:00:00\n"
     ]
    },
    {
     "data": {
      "text/html": [
       "<div>\n",
       "<style scoped>\n",
       "    .dataframe tbody tr th:only-of-type {\n",
       "        vertical-align: middle;\n",
       "    }\n",
       "\n",
       "    .dataframe tbody tr th {\n",
       "        vertical-align: top;\n",
       "    }\n",
       "\n",
       "    .dataframe thead th {\n",
       "        text-align: right;\n",
       "    }\n",
       "</style>\n",
       "<table border=\"1\" class=\"dataframe\">\n",
       "  <thead>\n",
       "    <tr style=\"text-align: right;\">\n",
       "      <th></th>\n",
       "      <th>Date</th>\n",
       "      <th>Open</th>\n",
       "      <th>High</th>\n",
       "      <th>Low</th>\n",
       "      <th>Close</th>\n",
       "      <th>Adj Close</th>\n",
       "      <th>Volume</th>\n",
       "    </tr>\n",
       "  </thead>\n",
       "  <tbody>\n",
       "    <tr>\n",
       "      <th>87</th>\n",
       "      <td>2020-07-01</td>\n",
       "      <td>70.555000</td>\n",
       "      <td>72.150002</td>\n",
       "      <td>70.490997</td>\n",
       "      <td>71.902000</td>\n",
       "      <td>71.902000</td>\n",
       "      <td>35504000</td>\n",
       "    </tr>\n",
       "    <tr>\n",
       "      <th>88</th>\n",
       "      <td>2020-07-02</td>\n",
       "      <td>72.347000</td>\n",
       "      <td>74.147499</td>\n",
       "      <td>72.320999</td>\n",
       "      <td>73.235001</td>\n",
       "      <td>73.235001</td>\n",
       "      <td>37182000</td>\n",
       "    </tr>\n",
       "    <tr>\n",
       "      <th>89</th>\n",
       "      <td>2020-07-06</td>\n",
       "      <td>74.002998</td>\n",
       "      <td>75.329498</td>\n",
       "      <td>73.642998</td>\n",
       "      <td>74.785004</td>\n",
       "      <td>74.785004</td>\n",
       "      <td>31280000</td>\n",
       "    </tr>\n",
       "    <tr>\n",
       "      <th>90</th>\n",
       "      <td>2020-07-07</td>\n",
       "      <td>74.500000</td>\n",
       "      <td>75.839996</td>\n",
       "      <td>74.177498</td>\n",
       "      <td>74.259003</td>\n",
       "      <td>74.259003</td>\n",
       "      <td>29164000</td>\n",
       "    </tr>\n",
       "    <tr>\n",
       "      <th>91</th>\n",
       "      <td>2020-07-08</td>\n",
       "      <td>74.716003</td>\n",
       "      <td>75.293999</td>\n",
       "      <td>74.281502</td>\n",
       "      <td>74.800003</td>\n",
       "      <td>74.800003</td>\n",
       "      <td>24994000</td>\n",
       "    </tr>\n",
       "  </tbody>\n",
       "</table>\n",
       "</div>"
      ],
      "text/plain": [
       "         Date       Open       High        Low      Close  Adj Close    Volume\n",
       "87 2020-07-01  70.555000  72.150002  70.490997  71.902000  71.902000  35504000\n",
       "88 2020-07-02  72.347000  74.147499  72.320999  73.235001  73.235001  37182000\n",
       "89 2020-07-06  74.002998  75.329498  73.642998  74.785004  74.785004  31280000\n",
       "90 2020-07-07  74.500000  75.839996  74.177498  74.259003  74.259003  29164000\n",
       "91 2020-07-08  74.716003  75.293999  74.281502  74.800003  74.800003  24994000"
      ]
     },
     "execution_count": 40,
     "metadata": {},
     "output_type": "execute_result"
    }
   ],
   "source": [
    "# note when combining boolean operations from pandas dataframes we need to use & instead of `and`\n",
    "# and `|` instead of `or`\n",
    "finance_2020_2nd = finance[(finance.Date >= '2020-07-01') & (finance.Date <= '2020-12-31')]\n",
    "print(finance_2020_2nd.Date.min())\n",
    "print(finance_2020_2nd.Date.max())\n",
    "finance_2020_2nd.head()"
   ]
  },
  {
   "cell_type": "markdown",
   "id": "0d9f250d",
   "metadata": {},
   "source": [
    "That looks pretty good to me. I think this is mostly what we would want you to know or be familiar with.\n",
    "I will leave you with a couple exercises though for pandas.\n",
    "\n",
    "## Exercises\n",
    "\n",
    "1. Try and combine the filtering I did based on species type and sepal width, meaning create a new data frame that is just the `setosa` species **AND** with `sepal_width` >= 3.6\n",
    "2. Try and find the days where the difference between open and close was the largest and smallest (you can do arithmatic with pandas objects as well :) ) "
   ]
  },
  {
   "cell_type": "code",
   "execution_count": null,
   "id": "6625ce42",
   "metadata": {},
   "outputs": [],
   "source": []
  },
  {
   "cell_type": "markdown",
   "id": "657e5552",
   "metadata": {},
   "source": [
    "## References\n",
    "[1] - Stack Overflow 2022 Survey - https://survey.stackoverflow.co/2022/#technology\n",
    "\n",
    "\n",
    "[2] - Numpy homepage - https://numpy.org/\n",
    "\n",
    "\n",
    "[3] - Matplotlib examples https://matplotlib.org/stable/gallery/index.html"
   ]
  }
 ],
 "metadata": {
  "kernelspec": {
   "display_name": "Python 3 (ipykernel)",
   "language": "python",
   "name": "python3"
  },
  "language_info": {
   "codemirror_mode": {
    "name": "ipython",
    "version": 3
   },
   "file_extension": ".py",
   "mimetype": "text/x-python",
   "name": "python",
   "nbconvert_exporter": "python",
   "pygments_lexer": "ipython3",
   "version": "3.8.10"
  },
  "name": "cab420_week0.ipynb"
 },
 "nbformat": 4,
 "nbformat_minor": 5
}
